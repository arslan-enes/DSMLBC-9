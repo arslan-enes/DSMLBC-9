{
 "cells": [
  {
   "cell_type": "markdown",
   "source": [
    "Exercise 1"
   ],
   "metadata": {
    "collapsed": false,
    "pycharm": {
     "name": "#%% md\n"
    }
   }
  },
  {
   "cell_type": "code",
   "execution_count": 1,
   "outputs": [],
   "source": [
    "text = \"The goal is to turn data into information, and information into insight.\""
   ],
   "metadata": {
    "collapsed": false,
    "pycharm": {
     "name": "#%%\n"
    }
   }
  },
  {
   "cell_type": "code",
   "execution_count": 5,
   "outputs": [
    {
     "data": {
      "text/plain": "['THE',\n 'GOAL',\n 'IS',\n 'TO',\n 'TURN',\n 'DATA',\n 'INTO',\n 'INFORMATION',\n 'AND',\n 'INFORMATION',\n 'INTO',\n 'INSIGHT']"
     },
     "execution_count": 5,
     "metadata": {},
     "output_type": "execute_result"
    }
   ],
   "source": [
    "text.replace(',',' ').replace('.',' ').upper().split()"
   ],
   "metadata": {
    "collapsed": false,
    "pycharm": {
     "name": "#%%\n"
    }
   }
  },
  {
   "cell_type": "markdown",
   "source": [
    "Exercise 2"
   ],
   "metadata": {
    "collapsed": false,
    "pycharm": {
     "name": "#%% md\n"
    }
   }
  },
  {
   "cell_type": "code",
   "execution_count": 26,
   "outputs": [
    {
     "data": {
      "text/plain": "['D', 'A', 'T', 'A', 'S', 'C', 'I', 'E', 'N', 'C', 'E']"
     },
     "execution_count": 26,
     "metadata": {},
     "output_type": "execute_result"
    }
   ],
   "source": [
    "lst = list('DATASCIENCE')\n",
    "lst"
   ],
   "metadata": {
    "collapsed": false,
    "pycharm": {
     "name": "#%%\n"
    }
   }
  },
  {
   "cell_type": "code",
   "execution_count": 14,
   "outputs": [
    {
     "data": {
      "text/plain": "11"
     },
     "execution_count": 14,
     "metadata": {},
     "output_type": "execute_result"
    }
   ],
   "source": [
    "len(lst)"
   ],
   "metadata": {
    "collapsed": false,
    "pycharm": {
     "name": "#%%\n"
    }
   }
  },
  {
   "cell_type": "code",
   "execution_count": 18,
   "outputs": [
    {
     "name": "stdout",
     "output_type": "stream",
     "text": [
      "D E\n"
     ]
    }
   ],
   "source": [
    "print(lst[0],lst[10])"
   ],
   "metadata": {
    "collapsed": false,
    "pycharm": {
     "name": "#%%\n"
    }
   }
  },
  {
   "cell_type": "code",
   "execution_count": 28,
   "outputs": [
    {
     "data": {
      "text/plain": "['D', 'A', 'T', 'A']"
     },
     "execution_count": 28,
     "metadata": {},
     "output_type": "execute_result"
    }
   ],
   "source": [
    "lst[0:4]"
   ],
   "metadata": {
    "collapsed": false,
    "pycharm": {
     "name": "#%%\n"
    }
   }
  },
  {
   "cell_type": "code",
   "execution_count": 29,
   "outputs": [
    {
     "data": {
      "text/plain": "['D', 'A', 'T', 'A', 'S', 'C', 'I', 'E', 'C', 'E']"
     },
     "execution_count": 29,
     "metadata": {},
     "output_type": "execute_result"
    }
   ],
   "source": [
    "lst.pop(8)\n",
    "lst"
   ],
   "metadata": {
    "collapsed": false,
    "pycharm": {
     "name": "#%%\n"
    }
   }
  },
  {
   "cell_type": "code",
   "execution_count": 30,
   "outputs": [
    {
     "data": {
      "text/plain": "['D', 'A', 'T', 'A', 'S', 'C', 'I', 'E', 'C', 'E', 'X']"
     },
     "execution_count": 30,
     "metadata": {},
     "output_type": "execute_result"
    }
   ],
   "source": [
    "lst.append('X')\n",
    "lst"
   ],
   "metadata": {
    "collapsed": false,
    "pycharm": {
     "name": "#%%\n"
    }
   }
  },
  {
   "cell_type": "code",
   "execution_count": 31,
   "outputs": [
    {
     "data": {
      "text/plain": "['D', 'A', 'T', 'A', 'S', 'C', 'I', 'E', 'N', 'C', 'E', 'X']"
     },
     "execution_count": 31,
     "metadata": {},
     "output_type": "execute_result"
    }
   ],
   "source": [
    "lst.insert(8,'N')\n",
    "lst"
   ],
   "metadata": {
    "collapsed": false,
    "pycharm": {
     "name": "#%%\n"
    }
   }
  },
  {
   "cell_type": "markdown",
   "source": [
    "Exercise 3"
   ],
   "metadata": {
    "collapsed": false,
    "pycharm": {
     "name": "#%% md\n"
    }
   }
  },
  {
   "cell_type": "code",
   "execution_count": 33,
   "outputs": [],
   "source": [
    "_dict = {'Christian': ['America',18],\n",
    "        'Daisy':['England',12],\n",
    "        'Antonio':['Spain',22],\n",
    "        'Dante':['Italy',25]}"
   ],
   "metadata": {
    "collapsed": false,
    "pycharm": {
     "name": "#%%\n"
    }
   }
  },
  {
   "cell_type": "code",
   "execution_count": 34,
   "outputs": [
    {
     "data": {
      "text/plain": "dict_keys(['Christian', 'Daisy', 'Antonio', 'Dante'])"
     },
     "execution_count": 34,
     "metadata": {},
     "output_type": "execute_result"
    }
   ],
   "source": [
    "_dict.keys()"
   ],
   "metadata": {
    "collapsed": false,
    "pycharm": {
     "name": "#%%\n"
    }
   }
  },
  {
   "cell_type": "code",
   "execution_count": 35,
   "outputs": [
    {
     "data": {
      "text/plain": "dict_values([['America', 18], ['England', 12], ['Spain', 22], ['Italy', 25]])"
     },
     "execution_count": 35,
     "metadata": {},
     "output_type": "execute_result"
    }
   ],
   "source": [
    "_dict.values()"
   ],
   "metadata": {
    "collapsed": false,
    "pycharm": {
     "name": "#%%\n"
    }
   }
  },
  {
   "cell_type": "code",
   "execution_count": 37,
   "outputs": [
    {
     "data": {
      "text/plain": "{'Christian': ['America', 18],\n 'Daisy': ['England', 13],\n 'Antonio': ['Spain', 22],\n 'Dante': ['Italy', 25]}"
     },
     "execution_count": 37,
     "metadata": {},
     "output_type": "execute_result"
    }
   ],
   "source": [
    "_dict['Daisy'][1] = 13\n",
    "_dict"
   ],
   "metadata": {
    "collapsed": false,
    "pycharm": {
     "name": "#%%\n"
    }
   }
  },
  {
   "cell_type": "code",
   "execution_count": 38,
   "outputs": [
    {
     "data": {
      "text/plain": "{'Christian': ['America', 18],\n 'Daisy': ['England', 13],\n 'Antonio': ['Spain', 22],\n 'Dante': ['Italy', 25],\n 'Ahmet': ['Turkey', 24]}"
     },
     "execution_count": 38,
     "metadata": {},
     "output_type": "execute_result"
    }
   ],
   "source": [
    "_dict['Ahmet'] = ['Turkey',24]\n",
    "_dict"
   ],
   "metadata": {
    "collapsed": false,
    "pycharm": {
     "name": "#%%\n"
    }
   }
  },
  {
   "cell_type": "code",
   "execution_count": 40,
   "outputs": [],
   "source": [
    "_dict.pop('Antonio')"
   ],
   "metadata": {
    "collapsed": false,
    "pycharm": {
     "name": "#%%\n"
    }
   }
  },
  {
   "cell_type": "code",
   "execution_count": 41,
   "outputs": [
    {
     "data": {
      "text/plain": "{'Christian': ['America', 18],\n 'Daisy': ['England', 13],\n 'Dante': ['Italy', 25],\n 'Ahmet': ['Turkey', 24]}"
     },
     "execution_count": 41,
     "metadata": {},
     "output_type": "execute_result"
    }
   ],
   "source": [
    "_dict"
   ],
   "metadata": {
    "collapsed": false,
    "pycharm": {
     "name": "#%%\n"
    }
   }
  },
  {
   "cell_type": "markdown",
   "source": [
    "Exercise 4"
   ],
   "metadata": {
    "collapsed": false,
    "pycharm": {
     "name": "#%% md\n"
    }
   }
  },
  {
   "cell_type": "code",
   "execution_count": 42,
   "outputs": [],
   "source": [
    "l = [8,66,69,77,34,5]"
   ],
   "metadata": {
    "collapsed": false,
    "pycharm": {
     "name": "#%%\n"
    }
   }
  },
  {
   "cell_type": "code",
   "execution_count": 43,
   "outputs": [],
   "source": [
    "def odd_even(_list):\n",
    "        even_list = [x for x in _list if x % 2 == 0]\n",
    "        odd_list = [x for x in _list if x % 2 == 1]\n",
    "        return  even_list, odd_list"
   ],
   "metadata": {
    "collapsed": false,
    "pycharm": {
     "name": "#%%\n"
    }
   }
  },
  {
   "cell_type": "code",
   "execution_count": 44,
   "outputs": [],
   "source": [
    "even, odd = odd_even(l)"
   ],
   "metadata": {
    "collapsed": false,
    "pycharm": {
     "name": "#%%\n"
    }
   }
  },
  {
   "cell_type": "code",
   "execution_count": 45,
   "outputs": [
    {
     "data": {
      "text/plain": "[8, 66, 34]"
     },
     "execution_count": 45,
     "metadata": {},
     "output_type": "execute_result"
    }
   ],
   "source": [
    "even"
   ],
   "metadata": {
    "collapsed": false,
    "pycharm": {
     "name": "#%%\n"
    }
   }
  },
  {
   "cell_type": "code",
   "execution_count": 46,
   "outputs": [
    {
     "data": {
      "text/plain": "[69, 77, 5]"
     },
     "execution_count": 46,
     "metadata": {},
     "output_type": "execute_result"
    }
   ],
   "source": [
    "odd"
   ],
   "metadata": {
    "collapsed": false,
    "pycharm": {
     "name": "#%%\n"
    }
   }
  },
  {
   "cell_type": "markdown",
   "source": [
    "Exercise 5"
   ],
   "metadata": {
    "collapsed": false,
    "pycharm": {
     "name": "#%% md\n"
    }
   }
  },
  {
   "cell_type": "code",
   "execution_count": 47,
   "outputs": [
    {
     "data": {
      "text/plain": "Index(['total', 'speeding', 'alcohol', 'not_distracted', 'no_previous',\n       'ins_premium', 'ins_losses', 'abbrev'],\n      dtype='object')"
     },
     "execution_count": 47,
     "metadata": {},
     "output_type": "execute_result"
    }
   ],
   "source": [
    "import seaborn as sns\n",
    "df = sns.load_dataset('car_crashes')\n",
    "df.columns"
   ],
   "metadata": {
    "collapsed": false,
    "pycharm": {
     "name": "#%%\n"
    }
   }
  },
  {
   "cell_type": "code",
   "execution_count": 56,
   "outputs": [
    {
     "data": {
      "text/plain": "['NUM_TOTAL',\n 'NUM_SPEEDING',\n 'NUM_ALCOHOL',\n 'NUM_NOT_DISTRACTED',\n 'NUM_NO_PREVIOUS',\n 'NUM_INS_PREMIUM',\n 'NUM_INS_LOSSES',\n 'ABBREV']"
     },
     "execution_count": 56,
     "metadata": {},
     "output_type": "execute_result"
    }
   ],
   "source": [
    "cols = [\"NUM_\"+col.upper() if df[col].dtype != 'O' else col.upper() for col in df.columns]\n",
    "cols"
   ],
   "metadata": {
    "collapsed": false,
    "pycharm": {
     "name": "#%%\n"
    }
   }
  },
  {
   "cell_type": "markdown",
   "source": [
    "Exercise 6"
   ],
   "metadata": {
    "collapsed": false,
    "pycharm": {
     "name": "#%% md\n"
    }
   }
  },
  {
   "cell_type": "code",
   "execution_count": 60,
   "outputs": [
    {
     "data": {
      "text/plain": "['TOTAL_FLAG',\n 'SPEEDING_FLAG',\n 'ALCOHOL_FLAG',\n 'NOT_DISTRACTED',\n 'NO_PREVIOUS',\n 'INS_PREMIUM_FLAG',\n 'INS_LOSSES_FLAG',\n 'ABBREV_FLAG']"
     },
     "execution_count": 60,
     "metadata": {},
     "output_type": "execute_result"
    }
   ],
   "source": [
    "nos = [col + \"_FLAG\" if 'NO' not in col else col for col in list(map(str.upper,df.columns))]\n",
    "nos"
   ],
   "metadata": {
    "collapsed": false,
    "pycharm": {
     "name": "#%%\n"
    }
   }
  },
  {
   "cell_type": "markdown",
   "source": [
    "Exercise 7"
   ],
   "metadata": {
    "collapsed": false,
    "pycharm": {
     "name": "#%% md\n"
    }
   }
  },
  {
   "cell_type": "code",
   "execution_count": 62,
   "outputs": [],
   "source": [
    "og_list = ['abbrev','no_previous']"
   ],
   "metadata": {
    "collapsed": false,
    "pycharm": {
     "name": "#%%\n"
    }
   }
  },
  {
   "cell_type": "code",
   "execution_count": 69,
   "outputs": [],
   "source": [
    "new_cols = [col for col in df.columns if col not in og_list]"
   ],
   "metadata": {
    "collapsed": false,
    "pycharm": {
     "name": "#%%\n"
    }
   }
  },
  {
   "cell_type": "code",
   "execution_count": 70,
   "outputs": [
    {
     "data": {
      "text/plain": "    total  speeding  alcohol  not_distracted  ins_premium  ins_losses\n0    18.8     7.332    5.640          18.048       784.55      145.08\n1    18.1     7.421    4.525          16.290      1053.48      133.93\n2    18.6     6.510    5.208          15.624       899.47      110.35\n3    22.4     4.032    5.824          21.056       827.34      142.39\n4    12.0     4.200    3.360          10.920       878.41      165.63\n5    13.6     5.032    3.808          10.744       835.50      139.91\n6    10.8     4.968    3.888           9.396      1068.73      167.02\n7    16.2     6.156    4.860          14.094      1137.87      151.48\n8     5.9     2.006    1.593           5.900      1273.89      136.05\n9    17.9     3.759    5.191          16.468      1160.13      144.18\n10   15.6     2.964    3.900          14.820       913.15      142.80\n11   17.5     9.450    7.175          14.350       861.18      120.92\n12   15.3     5.508    4.437          13.005       641.96       82.75\n13   12.8     4.608    4.352          12.032       803.11      139.15\n14   14.5     3.625    4.205          13.775       710.46      108.92\n15   15.7     2.669    3.925          15.229       649.06      114.47\n16   17.8     4.806    4.272          13.706       780.45      133.80\n17   21.4     4.066    4.922          16.692       872.51      137.13\n18   20.5     7.175    6.765          14.965      1281.55      194.78\n19   15.1     5.738    4.530          13.137       661.88       96.57\n20   12.5     4.250    4.000           8.875      1048.78      192.70\n21    8.2     1.886    2.870           7.134      1011.14      135.63\n22   14.1     3.384    3.948          13.395      1110.61      152.26\n23    9.6     2.208    2.784           8.448       777.18      133.35\n24   17.6     2.640    5.456           1.760       896.07      155.77\n25   16.1     6.923    5.474          14.812       790.32      144.45\n26   21.4     8.346    9.416          17.976       816.21       85.15\n27   14.9     1.937    5.215          13.857       732.28      114.82\n28   14.7     5.439    4.704          13.965      1029.87      138.71\n29   11.6     4.060    3.480          10.092       746.54      120.21\n30   11.2     1.792    3.136           9.632      1301.52      159.85\n31   18.4     3.496    4.968          12.328       869.85      120.75\n32   12.3     3.936    3.567          10.824      1234.31      150.01\n33   16.8     6.552    5.208          15.792       708.24      127.82\n34   23.9     5.497   10.038          23.661       688.75      109.72\n35   14.1     3.948    4.794          13.959       697.73      133.52\n36   19.9     6.368    5.771          18.308       881.51      178.86\n37   12.8     4.224    3.328           8.576       804.71      104.61\n38   18.2     9.100    5.642          17.472       905.99      153.86\n39   11.1     3.774    4.218          10.212      1148.99      148.58\n40   23.9     9.082    9.799          22.944       858.97      116.29\n41   19.4     6.014    6.402          19.012       669.31       96.87\n42   19.5     4.095    5.655          15.990       767.91      155.57\n43   19.4     7.760    7.372          17.654      1004.75      156.83\n44   11.3     4.859    1.808           9.944       809.38      109.48\n45   13.6     4.080    4.080          13.056       716.20      109.61\n46   12.7     2.413    3.429          11.049       768.95      153.72\n47   10.6     4.452    3.498           8.692       890.03      111.62\n48   23.8     8.092    6.664          23.086       992.61      152.56\n49   13.8     4.968    4.554           5.382       670.31      106.62\n50   17.4     7.308    5.568          14.094       791.14      122.04",
      "text/html": "<div>\n<style scoped>\n    .dataframe tbody tr th:only-of-type {\n        vertical-align: middle;\n    }\n\n    .dataframe tbody tr th {\n        vertical-align: top;\n    }\n\n    .dataframe thead th {\n        text-align: right;\n    }\n</style>\n<table border=\"1\" class=\"dataframe\">\n  <thead>\n    <tr style=\"text-align: right;\">\n      <th></th>\n      <th>total</th>\n      <th>speeding</th>\n      <th>alcohol</th>\n      <th>not_distracted</th>\n      <th>ins_premium</th>\n      <th>ins_losses</th>\n    </tr>\n  </thead>\n  <tbody>\n    <tr>\n      <th>0</th>\n      <td>18.8</td>\n      <td>7.332</td>\n      <td>5.640</td>\n      <td>18.048</td>\n      <td>784.55</td>\n      <td>145.08</td>\n    </tr>\n    <tr>\n      <th>1</th>\n      <td>18.1</td>\n      <td>7.421</td>\n      <td>4.525</td>\n      <td>16.290</td>\n      <td>1053.48</td>\n      <td>133.93</td>\n    </tr>\n    <tr>\n      <th>2</th>\n      <td>18.6</td>\n      <td>6.510</td>\n      <td>5.208</td>\n      <td>15.624</td>\n      <td>899.47</td>\n      <td>110.35</td>\n    </tr>\n    <tr>\n      <th>3</th>\n      <td>22.4</td>\n      <td>4.032</td>\n      <td>5.824</td>\n      <td>21.056</td>\n      <td>827.34</td>\n      <td>142.39</td>\n    </tr>\n    <tr>\n      <th>4</th>\n      <td>12.0</td>\n      <td>4.200</td>\n      <td>3.360</td>\n      <td>10.920</td>\n      <td>878.41</td>\n      <td>165.63</td>\n    </tr>\n    <tr>\n      <th>5</th>\n      <td>13.6</td>\n      <td>5.032</td>\n      <td>3.808</td>\n      <td>10.744</td>\n      <td>835.50</td>\n      <td>139.91</td>\n    </tr>\n    <tr>\n      <th>6</th>\n      <td>10.8</td>\n      <td>4.968</td>\n      <td>3.888</td>\n      <td>9.396</td>\n      <td>1068.73</td>\n      <td>167.02</td>\n    </tr>\n    <tr>\n      <th>7</th>\n      <td>16.2</td>\n      <td>6.156</td>\n      <td>4.860</td>\n      <td>14.094</td>\n      <td>1137.87</td>\n      <td>151.48</td>\n    </tr>\n    <tr>\n      <th>8</th>\n      <td>5.9</td>\n      <td>2.006</td>\n      <td>1.593</td>\n      <td>5.900</td>\n      <td>1273.89</td>\n      <td>136.05</td>\n    </tr>\n    <tr>\n      <th>9</th>\n      <td>17.9</td>\n      <td>3.759</td>\n      <td>5.191</td>\n      <td>16.468</td>\n      <td>1160.13</td>\n      <td>144.18</td>\n    </tr>\n    <tr>\n      <th>10</th>\n      <td>15.6</td>\n      <td>2.964</td>\n      <td>3.900</td>\n      <td>14.820</td>\n      <td>913.15</td>\n      <td>142.80</td>\n    </tr>\n    <tr>\n      <th>11</th>\n      <td>17.5</td>\n      <td>9.450</td>\n      <td>7.175</td>\n      <td>14.350</td>\n      <td>861.18</td>\n      <td>120.92</td>\n    </tr>\n    <tr>\n      <th>12</th>\n      <td>15.3</td>\n      <td>5.508</td>\n      <td>4.437</td>\n      <td>13.005</td>\n      <td>641.96</td>\n      <td>82.75</td>\n    </tr>\n    <tr>\n      <th>13</th>\n      <td>12.8</td>\n      <td>4.608</td>\n      <td>4.352</td>\n      <td>12.032</td>\n      <td>803.11</td>\n      <td>139.15</td>\n    </tr>\n    <tr>\n      <th>14</th>\n      <td>14.5</td>\n      <td>3.625</td>\n      <td>4.205</td>\n      <td>13.775</td>\n      <td>710.46</td>\n      <td>108.92</td>\n    </tr>\n    <tr>\n      <th>15</th>\n      <td>15.7</td>\n      <td>2.669</td>\n      <td>3.925</td>\n      <td>15.229</td>\n      <td>649.06</td>\n      <td>114.47</td>\n    </tr>\n    <tr>\n      <th>16</th>\n      <td>17.8</td>\n      <td>4.806</td>\n      <td>4.272</td>\n      <td>13.706</td>\n      <td>780.45</td>\n      <td>133.80</td>\n    </tr>\n    <tr>\n      <th>17</th>\n      <td>21.4</td>\n      <td>4.066</td>\n      <td>4.922</td>\n      <td>16.692</td>\n      <td>872.51</td>\n      <td>137.13</td>\n    </tr>\n    <tr>\n      <th>18</th>\n      <td>20.5</td>\n      <td>7.175</td>\n      <td>6.765</td>\n      <td>14.965</td>\n      <td>1281.55</td>\n      <td>194.78</td>\n    </tr>\n    <tr>\n      <th>19</th>\n      <td>15.1</td>\n      <td>5.738</td>\n      <td>4.530</td>\n      <td>13.137</td>\n      <td>661.88</td>\n      <td>96.57</td>\n    </tr>\n    <tr>\n      <th>20</th>\n      <td>12.5</td>\n      <td>4.250</td>\n      <td>4.000</td>\n      <td>8.875</td>\n      <td>1048.78</td>\n      <td>192.70</td>\n    </tr>\n    <tr>\n      <th>21</th>\n      <td>8.2</td>\n      <td>1.886</td>\n      <td>2.870</td>\n      <td>7.134</td>\n      <td>1011.14</td>\n      <td>135.63</td>\n    </tr>\n    <tr>\n      <th>22</th>\n      <td>14.1</td>\n      <td>3.384</td>\n      <td>3.948</td>\n      <td>13.395</td>\n      <td>1110.61</td>\n      <td>152.26</td>\n    </tr>\n    <tr>\n      <th>23</th>\n      <td>9.6</td>\n      <td>2.208</td>\n      <td>2.784</td>\n      <td>8.448</td>\n      <td>777.18</td>\n      <td>133.35</td>\n    </tr>\n    <tr>\n      <th>24</th>\n      <td>17.6</td>\n      <td>2.640</td>\n      <td>5.456</td>\n      <td>1.760</td>\n      <td>896.07</td>\n      <td>155.77</td>\n    </tr>\n    <tr>\n      <th>25</th>\n      <td>16.1</td>\n      <td>6.923</td>\n      <td>5.474</td>\n      <td>14.812</td>\n      <td>790.32</td>\n      <td>144.45</td>\n    </tr>\n    <tr>\n      <th>26</th>\n      <td>21.4</td>\n      <td>8.346</td>\n      <td>9.416</td>\n      <td>17.976</td>\n      <td>816.21</td>\n      <td>85.15</td>\n    </tr>\n    <tr>\n      <th>27</th>\n      <td>14.9</td>\n      <td>1.937</td>\n      <td>5.215</td>\n      <td>13.857</td>\n      <td>732.28</td>\n      <td>114.82</td>\n    </tr>\n    <tr>\n      <th>28</th>\n      <td>14.7</td>\n      <td>5.439</td>\n      <td>4.704</td>\n      <td>13.965</td>\n      <td>1029.87</td>\n      <td>138.71</td>\n    </tr>\n    <tr>\n      <th>29</th>\n      <td>11.6</td>\n      <td>4.060</td>\n      <td>3.480</td>\n      <td>10.092</td>\n      <td>746.54</td>\n      <td>120.21</td>\n    </tr>\n    <tr>\n      <th>30</th>\n      <td>11.2</td>\n      <td>1.792</td>\n      <td>3.136</td>\n      <td>9.632</td>\n      <td>1301.52</td>\n      <td>159.85</td>\n    </tr>\n    <tr>\n      <th>31</th>\n      <td>18.4</td>\n      <td>3.496</td>\n      <td>4.968</td>\n      <td>12.328</td>\n      <td>869.85</td>\n      <td>120.75</td>\n    </tr>\n    <tr>\n      <th>32</th>\n      <td>12.3</td>\n      <td>3.936</td>\n      <td>3.567</td>\n      <td>10.824</td>\n      <td>1234.31</td>\n      <td>150.01</td>\n    </tr>\n    <tr>\n      <th>33</th>\n      <td>16.8</td>\n      <td>6.552</td>\n      <td>5.208</td>\n      <td>15.792</td>\n      <td>708.24</td>\n      <td>127.82</td>\n    </tr>\n    <tr>\n      <th>34</th>\n      <td>23.9</td>\n      <td>5.497</td>\n      <td>10.038</td>\n      <td>23.661</td>\n      <td>688.75</td>\n      <td>109.72</td>\n    </tr>\n    <tr>\n      <th>35</th>\n      <td>14.1</td>\n      <td>3.948</td>\n      <td>4.794</td>\n      <td>13.959</td>\n      <td>697.73</td>\n      <td>133.52</td>\n    </tr>\n    <tr>\n      <th>36</th>\n      <td>19.9</td>\n      <td>6.368</td>\n      <td>5.771</td>\n      <td>18.308</td>\n      <td>881.51</td>\n      <td>178.86</td>\n    </tr>\n    <tr>\n      <th>37</th>\n      <td>12.8</td>\n      <td>4.224</td>\n      <td>3.328</td>\n      <td>8.576</td>\n      <td>804.71</td>\n      <td>104.61</td>\n    </tr>\n    <tr>\n      <th>38</th>\n      <td>18.2</td>\n      <td>9.100</td>\n      <td>5.642</td>\n      <td>17.472</td>\n      <td>905.99</td>\n      <td>153.86</td>\n    </tr>\n    <tr>\n      <th>39</th>\n      <td>11.1</td>\n      <td>3.774</td>\n      <td>4.218</td>\n      <td>10.212</td>\n      <td>1148.99</td>\n      <td>148.58</td>\n    </tr>\n    <tr>\n      <th>40</th>\n      <td>23.9</td>\n      <td>9.082</td>\n      <td>9.799</td>\n      <td>22.944</td>\n      <td>858.97</td>\n      <td>116.29</td>\n    </tr>\n    <tr>\n      <th>41</th>\n      <td>19.4</td>\n      <td>6.014</td>\n      <td>6.402</td>\n      <td>19.012</td>\n      <td>669.31</td>\n      <td>96.87</td>\n    </tr>\n    <tr>\n      <th>42</th>\n      <td>19.5</td>\n      <td>4.095</td>\n      <td>5.655</td>\n      <td>15.990</td>\n      <td>767.91</td>\n      <td>155.57</td>\n    </tr>\n    <tr>\n      <th>43</th>\n      <td>19.4</td>\n      <td>7.760</td>\n      <td>7.372</td>\n      <td>17.654</td>\n      <td>1004.75</td>\n      <td>156.83</td>\n    </tr>\n    <tr>\n      <th>44</th>\n      <td>11.3</td>\n      <td>4.859</td>\n      <td>1.808</td>\n      <td>9.944</td>\n      <td>809.38</td>\n      <td>109.48</td>\n    </tr>\n    <tr>\n      <th>45</th>\n      <td>13.6</td>\n      <td>4.080</td>\n      <td>4.080</td>\n      <td>13.056</td>\n      <td>716.20</td>\n      <td>109.61</td>\n    </tr>\n    <tr>\n      <th>46</th>\n      <td>12.7</td>\n      <td>2.413</td>\n      <td>3.429</td>\n      <td>11.049</td>\n      <td>768.95</td>\n      <td>153.72</td>\n    </tr>\n    <tr>\n      <th>47</th>\n      <td>10.6</td>\n      <td>4.452</td>\n      <td>3.498</td>\n      <td>8.692</td>\n      <td>890.03</td>\n      <td>111.62</td>\n    </tr>\n    <tr>\n      <th>48</th>\n      <td>23.8</td>\n      <td>8.092</td>\n      <td>6.664</td>\n      <td>23.086</td>\n      <td>992.61</td>\n      <td>152.56</td>\n    </tr>\n    <tr>\n      <th>49</th>\n      <td>13.8</td>\n      <td>4.968</td>\n      <td>4.554</td>\n      <td>5.382</td>\n      <td>670.31</td>\n      <td>106.62</td>\n    </tr>\n    <tr>\n      <th>50</th>\n      <td>17.4</td>\n      <td>7.308</td>\n      <td>5.568</td>\n      <td>14.094</td>\n      <td>791.14</td>\n      <td>122.04</td>\n    </tr>\n  </tbody>\n</table>\n</div>"
     },
     "execution_count": 70,
     "metadata": {},
     "output_type": "execute_result"
    }
   ],
   "source": [
    "new_df = df[new_cols]\n",
    "new_df"
   ],
   "metadata": {
    "collapsed": false,
    "pycharm": {
     "name": "#%%\n"
    }
   }
  }
 ],
 "metadata": {
  "kernelspec": {
   "display_name": "Python 3",
   "language": "python",
   "name": "python3"
  },
  "language_info": {
   "codemirror_mode": {
    "name": "ipython",
    "version": 2
   },
   "file_extension": ".py",
   "mimetype": "text/x-python",
   "name": "python",
   "nbconvert_exporter": "python",
   "pygments_lexer": "ipython2",
   "version": "2.7.6"
  }
 },
 "nbformat": 4,
 "nbformat_minor": 0
}