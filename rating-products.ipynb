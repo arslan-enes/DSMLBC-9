{
 "cells": [
  {
   "cell_type": "code",
   "execution_count": 1,
   "id": "9f8304e5",
   "metadata": {
    "_cell_guid": "b1076dfc-b9ad-4769-8c92-a6c4dae69d19",
    "_uuid": "8f2839f25d086af736a60e9eeb907d3b93b6e0e5",
    "execution": {
     "iopub.execute_input": "2022-07-08T09:45:18.991581Z",
     "iopub.status.busy": "2022-07-08T09:45:18.990996Z",
     "iopub.status.idle": "2022-07-08T09:45:19.966065Z",
     "shell.execute_reply": "2022-07-08T09:45:19.964759Z"
    },
    "papermill": {
     "duration": 0.986369,
     "end_time": "2022-07-08T09:45:19.969170",
     "exception": false,
     "start_time": "2022-07-08T09:45:18.982801",
     "status": "completed"
    },
    "tags": []
   },
   "outputs": [],
   "source": [
    "import pandas as pd\n",
    "import math\n",
    "import scipy.stats as st\n",
    "from sklearn.preprocessing import MinMaxScaler\n",
    "\n",
    "pd.set_option('display.max_columns',None)\n",
    "pd.set_option('display.max_rows',None)\n",
    "pd.set_option('display.width',500)\n",
    "pd.set_option('display.float_format',lambda x: '%.5f' % x)"
   ]
  },
  {
   "cell_type": "code",
   "execution_count": 2,
   "id": "fe4bc7d2",
   "metadata": {
    "execution": {
     "iopub.execute_input": "2022-07-08T09:45:19.986634Z",
     "iopub.status.busy": "2022-07-08T09:45:19.985559Z",
     "iopub.status.idle": "2022-07-08T09:45:20.020775Z",
     "shell.execute_reply": "2022-07-08T09:45:20.019698Z"
    },
    "papermill": {
     "duration": 0.046149,
     "end_time": "2022-07-08T09:45:20.023697",
     "exception": false,
     "start_time": "2022-07-08T09:45:19.977548",
     "status": "completed"
    },
    "tags": []
   },
   "outputs": [],
   "source": [
    "df = pd.read_csv('../input/course-review/course_reviews.csv')"
   ]
  },
  {
   "cell_type": "markdown",
   "id": "5ea34de6",
   "metadata": {
    "papermill": {
     "duration": 0.005052,
     "end_time": "2022-07-08T09:45:20.033995",
     "exception": false,
     "start_time": "2022-07-08T09:45:20.028943",
     "status": "completed"
    },
    "tags": []
   },
   "source": [
    "***\n",
    "Column descriptions\n",
    "***"
   ]
  },
  {
   "cell_type": "code",
   "execution_count": 3,
   "id": "a7b40311",
   "metadata": {
    "execution": {
     "iopub.execute_input": "2022-07-08T09:45:20.046501Z",
     "iopub.status.busy": "2022-07-08T09:45:20.045783Z",
     "iopub.status.idle": "2022-07-08T09:45:20.066374Z",
     "shell.execute_reply": "2022-07-08T09:45:20.065175Z"
    },
    "papermill": {
     "duration": 0.029777,
     "end_time": "2022-07-08T09:45:20.069076",
     "exception": false,
     "start_time": "2022-07-08T09:45:20.039299",
     "status": "completed"
    },
    "tags": []
   },
   "outputs": [
    {
     "data": {
      "text/html": [
       "<div>\n",
       "<style scoped>\n",
       "    .dataframe tbody tr th:only-of-type {\n",
       "        vertical-align: middle;\n",
       "    }\n",
       "\n",
       "    .dataframe tbody tr th {\n",
       "        vertical-align: top;\n",
       "    }\n",
       "\n",
       "    .dataframe thead th {\n",
       "        text-align: right;\n",
       "    }\n",
       "</style>\n",
       "<table border=\"1\" class=\"dataframe\">\n",
       "  <thead>\n",
       "    <tr style=\"text-align: right;\">\n",
       "      <th></th>\n",
       "      <th>Rating</th>\n",
       "      <th>Timestamp</th>\n",
       "      <th>Enrolled</th>\n",
       "      <th>Progress</th>\n",
       "      <th>Questions Asked</th>\n",
       "      <th>Questions Answered</th>\n",
       "    </tr>\n",
       "  </thead>\n",
       "  <tbody>\n",
       "    <tr>\n",
       "      <th>0</th>\n",
       "      <td>5.00000</td>\n",
       "      <td>2021-02-05 07:45:55</td>\n",
       "      <td>2021-01-25 15:12:08</td>\n",
       "      <td>5.00000</td>\n",
       "      <td>0.00000</td>\n",
       "      <td>0.00000</td>\n",
       "    </tr>\n",
       "    <tr>\n",
       "      <th>1</th>\n",
       "      <td>5.00000</td>\n",
       "      <td>2021-02-04 21:05:32</td>\n",
       "      <td>2021-02-04 20:43:40</td>\n",
       "      <td>1.00000</td>\n",
       "      <td>0.00000</td>\n",
       "      <td>0.00000</td>\n",
       "    </tr>\n",
       "    <tr>\n",
       "      <th>2</th>\n",
       "      <td>4.50000</td>\n",
       "      <td>2021-02-04 20:34:03</td>\n",
       "      <td>2019-07-04 23:23:27</td>\n",
       "      <td>1.00000</td>\n",
       "      <td>0.00000</td>\n",
       "      <td>0.00000</td>\n",
       "    </tr>\n",
       "    <tr>\n",
       "      <th>3</th>\n",
       "      <td>5.00000</td>\n",
       "      <td>2021-02-04 16:56:28</td>\n",
       "      <td>2021-02-04 14:41:29</td>\n",
       "      <td>10.00000</td>\n",
       "      <td>0.00000</td>\n",
       "      <td>0.00000</td>\n",
       "    </tr>\n",
       "    <tr>\n",
       "      <th>4</th>\n",
       "      <td>4.00000</td>\n",
       "      <td>2021-02-04 15:00:24</td>\n",
       "      <td>2020-10-13 03:10:07</td>\n",
       "      <td>10.00000</td>\n",
       "      <td>0.00000</td>\n",
       "      <td>0.00000</td>\n",
       "    </tr>\n",
       "  </tbody>\n",
       "</table>\n",
       "</div>"
      ],
      "text/plain": [
       "   Rating            Timestamp             Enrolled  Progress  Questions Asked  Questions Answered\n",
       "0 5.00000  2021-02-05 07:45:55  2021-01-25 15:12:08   5.00000          0.00000             0.00000\n",
       "1 5.00000  2021-02-04 21:05:32  2021-02-04 20:43:40   1.00000          0.00000             0.00000\n",
       "2 4.50000  2021-02-04 20:34:03  2019-07-04 23:23:27   1.00000          0.00000             0.00000\n",
       "3 5.00000  2021-02-04 16:56:28  2021-02-04 14:41:29  10.00000          0.00000             0.00000\n",
       "4 4.00000  2021-02-04 15:00:24  2020-10-13 03:10:07  10.00000          0.00000             0.00000"
      ]
     },
     "execution_count": 3,
     "metadata": {},
     "output_type": "execute_result"
    }
   ],
   "source": [
    "df.head()"
   ]
  },
  {
   "cell_type": "code",
   "execution_count": 4,
   "id": "72ea461d",
   "metadata": {
    "execution": {
     "iopub.execute_input": "2022-07-08T09:45:20.081834Z",
     "iopub.status.busy": "2022-07-08T09:45:20.080755Z",
     "iopub.status.idle": "2022-07-08T09:45:20.087566Z",
     "shell.execute_reply": "2022-07-08T09:45:20.086441Z"
    },
    "papermill": {
     "duration": 0.015235,
     "end_time": "2022-07-08T09:45:20.089438",
     "exception": false,
     "start_time": "2022-07-08T09:45:20.074203",
     "status": "completed"
    },
    "tags": []
   },
   "outputs": [
    {
     "data": {
      "text/plain": [
       "(4323, 6)"
      ]
     },
     "execution_count": 4,
     "metadata": {},
     "output_type": "execute_result"
    }
   ],
   "source": [
    "df.shape"
   ]
  },
  {
   "cell_type": "code",
   "execution_count": 5,
   "id": "5e4ef93f",
   "metadata": {
    "execution": {
     "iopub.execute_input": "2022-07-08T09:45:20.102555Z",
     "iopub.status.busy": "2022-07-08T09:45:20.101394Z",
     "iopub.status.idle": "2022-07-08T09:45:20.115436Z",
     "shell.execute_reply": "2022-07-08T09:45:20.114592Z"
    },
    "papermill": {
     "duration": 0.02276,
     "end_time": "2022-07-08T09:45:20.117416",
     "exception": false,
     "start_time": "2022-07-08T09:45:20.094656",
     "status": "completed"
    },
    "tags": []
   },
   "outputs": [
    {
     "data": {
      "text/plain": [
       "5.00000    3267\n",
       "4.50000     475\n",
       "4.00000     383\n",
       "3.50000      96\n",
       "3.00000      62\n",
       "1.00000      15\n",
       "2.00000      12\n",
       "2.50000      11\n",
       "1.50000       2\n",
       "Name: Rating, dtype: int64"
      ]
     },
     "execution_count": 5,
     "metadata": {},
     "output_type": "execute_result"
    }
   ],
   "source": [
    "df.Rating.value_counts()"
   ]
  },
  {
   "cell_type": "code",
   "execution_count": 6,
   "id": "759a18b9",
   "metadata": {
    "execution": {
     "iopub.execute_input": "2022-07-08T09:45:20.130153Z",
     "iopub.status.busy": "2022-07-08T09:45:20.129186Z",
     "iopub.status.idle": "2022-07-08T09:45:20.137536Z",
     "shell.execute_reply": "2022-07-08T09:45:20.136504Z"
    },
    "papermill": {
     "duration": 0.016943,
     "end_time": "2022-07-08T09:45:20.139696",
     "exception": false,
     "start_time": "2022-07-08T09:45:20.122753",
     "status": "completed"
    },
    "tags": []
   },
   "outputs": [
    {
     "data": {
      "text/plain": [
       "0.00000     3867\n",
       "1.00000      276\n",
       "2.00000       80\n",
       "3.00000       43\n",
       "4.00000       15\n",
       "5.00000       13\n",
       "6.00000        9\n",
       "8.00000        5\n",
       "9.00000        3\n",
       "14.00000       2\n",
       "11.00000       2\n",
       "7.00000        2\n",
       "10.00000       2\n",
       "15.00000       2\n",
       "22.00000       1\n",
       "12.00000       1\n",
       "Name: Questions Asked, dtype: int64"
      ]
     },
     "execution_count": 6,
     "metadata": {},
     "output_type": "execute_result"
    }
   ],
   "source": [
    "df['Questions Asked'].value_counts()"
   ]
  },
  {
   "cell_type": "code",
   "execution_count": 7,
   "id": "8e858e68",
   "metadata": {
    "execution": {
     "iopub.execute_input": "2022-07-08T09:45:20.152692Z",
     "iopub.status.busy": "2022-07-08T09:45:20.151995Z",
     "iopub.status.idle": "2022-07-08T09:45:20.167760Z",
     "shell.execute_reply": "2022-07-08T09:45:20.166682Z"
    },
    "papermill": {
     "duration": 0.024962,
     "end_time": "2022-07-08T09:45:20.170037",
     "exception": false,
     "start_time": "2022-07-08T09:45:20.145075",
     "status": "completed"
    },
    "tags": []
   },
   "outputs": [
    {
     "data": {
      "text/html": [
       "<div>\n",
       "<style scoped>\n",
       "    .dataframe tbody tr th:only-of-type {\n",
       "        vertical-align: middle;\n",
       "    }\n",
       "\n",
       "    .dataframe tbody tr th {\n",
       "        vertical-align: top;\n",
       "    }\n",
       "\n",
       "    .dataframe thead th {\n",
       "        text-align: right;\n",
       "    }\n",
       "</style>\n",
       "<table border=\"1\" class=\"dataframe\">\n",
       "  <thead>\n",
       "    <tr style=\"text-align: right;\">\n",
       "      <th></th>\n",
       "      <th>Questions Asked</th>\n",
       "    </tr>\n",
       "    <tr>\n",
       "      <th>Rating</th>\n",
       "      <th></th>\n",
       "    </tr>\n",
       "  </thead>\n",
       "  <tbody>\n",
       "    <tr>\n",
       "      <th>1.00000</th>\n",
       "      <td>1.46667</td>\n",
       "    </tr>\n",
       "    <tr>\n",
       "      <th>1.50000</th>\n",
       "      <td>0.00000</td>\n",
       "    </tr>\n",
       "    <tr>\n",
       "      <th>2.00000</th>\n",
       "      <td>0.08333</td>\n",
       "    </tr>\n",
       "    <tr>\n",
       "      <th>2.50000</th>\n",
       "      <td>0.45455</td>\n",
       "    </tr>\n",
       "    <tr>\n",
       "      <th>3.00000</th>\n",
       "      <td>0.11290</td>\n",
       "    </tr>\n",
       "    <tr>\n",
       "      <th>3.50000</th>\n",
       "      <td>0.19792</td>\n",
       "    </tr>\n",
       "    <tr>\n",
       "      <th>4.00000</th>\n",
       "      <td>0.15144</td>\n",
       "    </tr>\n",
       "    <tr>\n",
       "      <th>4.50000</th>\n",
       "      <td>0.19158</td>\n",
       "    </tr>\n",
       "    <tr>\n",
       "      <th>5.00000</th>\n",
       "      <td>0.23140</td>\n",
       "    </tr>\n",
       "  </tbody>\n",
       "</table>\n",
       "</div>"
      ],
      "text/plain": [
       "         Questions Asked\n",
       "Rating                  \n",
       "1.00000          1.46667\n",
       "1.50000          0.00000\n",
       "2.00000          0.08333\n",
       "2.50000          0.45455\n",
       "3.00000          0.11290\n",
       "3.50000          0.19792\n",
       "4.00000          0.15144\n",
       "4.50000          0.19158\n",
       "5.00000          0.23140"
      ]
     },
     "execution_count": 7,
     "metadata": {},
     "output_type": "execute_result"
    }
   ],
   "source": [
    "df.groupby(['Rating']).agg({'Questions Asked' : 'mean'})"
   ]
  },
  {
   "cell_type": "markdown",
   "id": "47d87d46",
   "metadata": {
    "papermill": {
     "duration": 0.005089,
     "end_time": "2022-07-08T09:45:20.180673",
     "exception": false,
     "start_time": "2022-07-08T09:45:20.175584",
     "status": "completed"
    },
    "tags": []
   },
   "source": [
    "# Average"
   ]
  },
  {
   "cell_type": "code",
   "execution_count": 8,
   "id": "b4f00bbc",
   "metadata": {
    "execution": {
     "iopub.execute_input": "2022-07-08T09:45:20.193829Z",
     "iopub.status.busy": "2022-07-08T09:45:20.193119Z",
     "iopub.status.idle": "2022-07-08T09:45:20.199808Z",
     "shell.execute_reply": "2022-07-08T09:45:20.199007Z"
    },
    "papermill": {
     "duration": 0.015558,
     "end_time": "2022-07-08T09:45:20.201646",
     "exception": false,
     "start_time": "2022-07-08T09:45:20.186088",
     "status": "completed"
    },
    "tags": []
   },
   "outputs": [
    {
     "data": {
      "text/plain": [
       "4.764284061993986"
      ]
     },
     "execution_count": 8,
     "metadata": {},
     "output_type": "execute_result"
    }
   ],
   "source": [
    "df['Rating'].mean()"
   ]
  },
  {
   "cell_type": "markdown",
   "id": "3c248201",
   "metadata": {
    "papermill": {
     "duration": 0.005489,
     "end_time": "2022-07-08T09:45:20.212856",
     "exception": false,
     "start_time": "2022-07-08T09:45:20.207367",
     "status": "completed"
    },
    "tags": []
   },
   "source": [
    "# Time-Based Weighted Average"
   ]
  },
  {
   "cell_type": "code",
   "execution_count": 9,
   "id": "88a2d30d",
   "metadata": {
    "execution": {
     "iopub.execute_input": "2022-07-08T09:45:20.226304Z",
     "iopub.status.busy": "2022-07-08T09:45:20.225908Z",
     "iopub.status.idle": "2022-07-08T09:45:20.234356Z",
     "shell.execute_reply": "2022-07-08T09:45:20.233513Z"
    },
    "papermill": {
     "duration": 0.017543,
     "end_time": "2022-07-08T09:45:20.236241",
     "exception": false,
     "start_time": "2022-07-08T09:45:20.218698",
     "status": "completed"
    },
    "tags": []
   },
   "outputs": [],
   "source": [
    "df['Timestamp'] = pd.to_datetime(df.Timestamp)"
   ]
  },
  {
   "cell_type": "code",
   "execution_count": 10,
   "id": "d9f0ae2a",
   "metadata": {
    "execution": {
     "iopub.execute_input": "2022-07-08T09:45:20.249697Z",
     "iopub.status.busy": "2022-07-08T09:45:20.249079Z",
     "iopub.status.idle": "2022-07-08T09:45:20.254246Z",
     "shell.execute_reply": "2022-07-08T09:45:20.253405Z"
    },
    "papermill": {
     "duration": 0.014428,
     "end_time": "2022-07-08T09:45:20.256258",
     "exception": false,
     "start_time": "2022-07-08T09:45:20.241830",
     "status": "completed"
    },
    "tags": []
   },
   "outputs": [],
   "source": [
    "analysis_date = pd.to_datetime('2021-02-10')"
   ]
  },
  {
   "cell_type": "code",
   "execution_count": 11,
   "id": "902cd422",
   "metadata": {
    "execution": {
     "iopub.execute_input": "2022-07-08T09:45:20.270951Z",
     "iopub.status.busy": "2022-07-08T09:45:20.269882Z",
     "iopub.status.idle": "2022-07-08T09:45:20.277219Z",
     "shell.execute_reply": "2022-07-08T09:45:20.276335Z"
    },
    "papermill": {
     "duration": 0.017333,
     "end_time": "2022-07-08T09:45:20.279442",
     "exception": false,
     "start_time": "2022-07-08T09:45:20.262109",
     "status": "completed"
    },
    "tags": []
   },
   "outputs": [],
   "source": [
    "df['days'] = (analysis_date - df.Timestamp).dt.days"
   ]
  },
  {
   "cell_type": "code",
   "execution_count": 12,
   "id": "6fc7c2a0",
   "metadata": {
    "execution": {
     "iopub.execute_input": "2022-07-08T09:45:20.293128Z",
     "iopub.status.busy": "2022-07-08T09:45:20.292240Z",
     "iopub.status.idle": "2022-07-08T09:45:20.305383Z",
     "shell.execute_reply": "2022-07-08T09:45:20.303804Z"
    },
    "papermill": {
     "duration": 0.022646,
     "end_time": "2022-07-08T09:45:20.307743",
     "exception": false,
     "start_time": "2022-07-08T09:45:20.285097",
     "status": "completed"
    },
    "tags": []
   },
   "outputs": [
    {
     "data": {
      "text/html": [
       "<div>\n",
       "<style scoped>\n",
       "    .dataframe tbody tr th:only-of-type {\n",
       "        vertical-align: middle;\n",
       "    }\n",
       "\n",
       "    .dataframe tbody tr th {\n",
       "        vertical-align: top;\n",
       "    }\n",
       "\n",
       "    .dataframe thead th {\n",
       "        text-align: right;\n",
       "    }\n",
       "</style>\n",
       "<table border=\"1\" class=\"dataframe\">\n",
       "  <thead>\n",
       "    <tr style=\"text-align: right;\">\n",
       "      <th></th>\n",
       "      <th>Rating</th>\n",
       "      <th>Timestamp</th>\n",
       "      <th>Enrolled</th>\n",
       "      <th>Progress</th>\n",
       "      <th>Questions Asked</th>\n",
       "      <th>Questions Answered</th>\n",
       "      <th>days</th>\n",
       "    </tr>\n",
       "  </thead>\n",
       "  <tbody>\n",
       "    <tr>\n",
       "      <th>0</th>\n",
       "      <td>5.00000</td>\n",
       "      <td>2021-02-05 07:45:55</td>\n",
       "      <td>2021-01-25 15:12:08</td>\n",
       "      <td>5.00000</td>\n",
       "      <td>0.00000</td>\n",
       "      <td>0.00000</td>\n",
       "      <td>4</td>\n",
       "    </tr>\n",
       "    <tr>\n",
       "      <th>1</th>\n",
       "      <td>5.00000</td>\n",
       "      <td>2021-02-04 21:05:32</td>\n",
       "      <td>2021-02-04 20:43:40</td>\n",
       "      <td>1.00000</td>\n",
       "      <td>0.00000</td>\n",
       "      <td>0.00000</td>\n",
       "      <td>5</td>\n",
       "    </tr>\n",
       "    <tr>\n",
       "      <th>2</th>\n",
       "      <td>4.50000</td>\n",
       "      <td>2021-02-04 20:34:03</td>\n",
       "      <td>2019-07-04 23:23:27</td>\n",
       "      <td>1.00000</td>\n",
       "      <td>0.00000</td>\n",
       "      <td>0.00000</td>\n",
       "      <td>5</td>\n",
       "    </tr>\n",
       "    <tr>\n",
       "      <th>3</th>\n",
       "      <td>5.00000</td>\n",
       "      <td>2021-02-04 16:56:28</td>\n",
       "      <td>2021-02-04 14:41:29</td>\n",
       "      <td>10.00000</td>\n",
       "      <td>0.00000</td>\n",
       "      <td>0.00000</td>\n",
       "      <td>5</td>\n",
       "    </tr>\n",
       "    <tr>\n",
       "      <th>4</th>\n",
       "      <td>4.00000</td>\n",
       "      <td>2021-02-04 15:00:24</td>\n",
       "      <td>2020-10-13 03:10:07</td>\n",
       "      <td>10.00000</td>\n",
       "      <td>0.00000</td>\n",
       "      <td>0.00000</td>\n",
       "      <td>5</td>\n",
       "    </tr>\n",
       "  </tbody>\n",
       "</table>\n",
       "</div>"
      ],
      "text/plain": [
       "   Rating           Timestamp             Enrolled  Progress  Questions Asked  Questions Answered  days\n",
       "0 5.00000 2021-02-05 07:45:55  2021-01-25 15:12:08   5.00000          0.00000             0.00000     4\n",
       "1 5.00000 2021-02-04 21:05:32  2021-02-04 20:43:40   1.00000          0.00000             0.00000     5\n",
       "2 4.50000 2021-02-04 20:34:03  2019-07-04 23:23:27   1.00000          0.00000             0.00000     5\n",
       "3 5.00000 2021-02-04 16:56:28  2021-02-04 14:41:29  10.00000          0.00000             0.00000     5\n",
       "4 4.00000 2021-02-04 15:00:24  2020-10-13 03:10:07  10.00000          0.00000             0.00000     5"
      ]
     },
     "execution_count": 12,
     "metadata": {},
     "output_type": "execute_result"
    }
   ],
   "source": [
    "df.head()"
   ]
  },
  {
   "cell_type": "code",
   "execution_count": 13,
   "id": "3ccbb120",
   "metadata": {
    "execution": {
     "iopub.execute_input": "2022-07-08T09:45:20.323219Z",
     "iopub.status.busy": "2022-07-08T09:45:20.322438Z",
     "iopub.status.idle": "2022-07-08T09:45:20.337729Z",
     "shell.execute_reply": "2022-07-08T09:45:20.336539Z"
    },
    "papermill": {
     "duration": 0.02505,
     "end_time": "2022-07-08T09:45:20.339835",
     "exception": false,
     "start_time": "2022-07-08T09:45:20.314785",
     "status": "completed"
    },
    "tags": []
   },
   "outputs": [
    {
     "data": {
      "text/html": [
       "<div>\n",
       "<style scoped>\n",
       "    .dataframe tbody tr th:only-of-type {\n",
       "        vertical-align: middle;\n",
       "    }\n",
       "\n",
       "    .dataframe tbody tr th {\n",
       "        vertical-align: top;\n",
       "    }\n",
       "\n",
       "    .dataframe thead th {\n",
       "        text-align: right;\n",
       "    }\n",
       "</style>\n",
       "<table border=\"1\" class=\"dataframe\">\n",
       "  <thead>\n",
       "    <tr style=\"text-align: right;\">\n",
       "      <th></th>\n",
       "      <th>Rating</th>\n",
       "      <th>Timestamp</th>\n",
       "      <th>Enrolled</th>\n",
       "      <th>Progress</th>\n",
       "      <th>Questions Asked</th>\n",
       "      <th>Questions Answered</th>\n",
       "      <th>days</th>\n",
       "    </tr>\n",
       "  </thead>\n",
       "  <tbody>\n",
       "    <tr>\n",
       "      <th>0</th>\n",
       "      <td>5.00000</td>\n",
       "      <td>2021-02-05 07:45:55</td>\n",
       "      <td>2021-01-25 15:12:08</td>\n",
       "      <td>5.00000</td>\n",
       "      <td>0.00000</td>\n",
       "      <td>0.00000</td>\n",
       "      <td>4</td>\n",
       "    </tr>\n",
       "    <tr>\n",
       "      <th>1</th>\n",
       "      <td>5.00000</td>\n",
       "      <td>2021-02-04 21:05:32</td>\n",
       "      <td>2021-02-04 20:43:40</td>\n",
       "      <td>1.00000</td>\n",
       "      <td>0.00000</td>\n",
       "      <td>0.00000</td>\n",
       "      <td>5</td>\n",
       "    </tr>\n",
       "    <tr>\n",
       "      <th>2</th>\n",
       "      <td>4.50000</td>\n",
       "      <td>2021-02-04 20:34:03</td>\n",
       "      <td>2019-07-04 23:23:27</td>\n",
       "      <td>1.00000</td>\n",
       "      <td>0.00000</td>\n",
       "      <td>0.00000</td>\n",
       "      <td>5</td>\n",
       "    </tr>\n",
       "    <tr>\n",
       "      <th>3</th>\n",
       "      <td>5.00000</td>\n",
       "      <td>2021-02-04 16:56:28</td>\n",
       "      <td>2021-02-04 14:41:29</td>\n",
       "      <td>10.00000</td>\n",
       "      <td>0.00000</td>\n",
       "      <td>0.00000</td>\n",
       "      <td>5</td>\n",
       "    </tr>\n",
       "    <tr>\n",
       "      <th>4</th>\n",
       "      <td>4.00000</td>\n",
       "      <td>2021-02-04 15:00:24</td>\n",
       "      <td>2020-10-13 03:10:07</td>\n",
       "      <td>10.00000</td>\n",
       "      <td>0.00000</td>\n",
       "      <td>0.00000</td>\n",
       "      <td>5</td>\n",
       "    </tr>\n",
       "  </tbody>\n",
       "</table>\n",
       "</div>"
      ],
      "text/plain": [
       "   Rating           Timestamp             Enrolled  Progress  Questions Asked  Questions Answered  days\n",
       "0 5.00000 2021-02-05 07:45:55  2021-01-25 15:12:08   5.00000          0.00000             0.00000     4\n",
       "1 5.00000 2021-02-04 21:05:32  2021-02-04 20:43:40   1.00000          0.00000             0.00000     5\n",
       "2 4.50000 2021-02-04 20:34:03  2019-07-04 23:23:27   1.00000          0.00000             0.00000     5\n",
       "3 5.00000 2021-02-04 16:56:28  2021-02-04 14:41:29  10.00000          0.00000             0.00000     5\n",
       "4 4.00000 2021-02-04 15:00:24  2020-10-13 03:10:07  10.00000          0.00000             0.00000     5"
      ]
     },
     "execution_count": 13,
     "metadata": {},
     "output_type": "execute_result"
    }
   ],
   "source": [
    "# Reviews commited in last 30 days\n",
    "df.loc[df['days'] <= 30].head()"
   ]
  },
  {
   "cell_type": "code",
   "execution_count": 14,
   "id": "b19a3d70",
   "metadata": {
    "execution": {
     "iopub.execute_input": "2022-07-08T09:45:20.353875Z",
     "iopub.status.busy": "2022-07-08T09:45:20.353168Z",
     "iopub.status.idle": "2022-07-08T09:45:20.359582Z",
     "shell.execute_reply": "2022-07-08T09:45:20.358666Z"
    },
    "papermill": {
     "duration": 0.015971,
     "end_time": "2022-07-08T09:45:20.361805",
     "exception": false,
     "start_time": "2022-07-08T09:45:20.345834",
     "status": "completed"
    },
    "tags": []
   },
   "outputs": [],
   "source": [
    "def time_based_weighted_average(dataframe, w1=28, w2=26, w3=24, w4=22):\n",
    "    return dataframe.loc[dataframe['days'] <= 30,'Rating'].mean() * w1 / 100 \\\n",
    "            +dataframe.loc[(dataframe['days'] > 30) &  (dataframe['days'] <= 90),'Rating'].mean() * w2 / 100 \\\n",
    "            +dataframe.loc[(dataframe['days'] > 90) &  (dataframe['days'] <= 180),'Rating'].mean() * w3 / 100 \\\n",
    "            +dataframe.loc[dataframe['days'] > 180,'Rating'].mean() * w4 / 100 "
   ]
  },
  {
   "cell_type": "code",
   "execution_count": 15,
   "id": "00fa6cf5",
   "metadata": {
    "execution": {
     "iopub.execute_input": "2022-07-08T09:45:20.375930Z",
     "iopub.status.busy": "2022-07-08T09:45:20.375498Z",
     "iopub.status.idle": "2022-07-08T09:45:20.386088Z",
     "shell.execute_reply": "2022-07-08T09:45:20.385352Z"
    },
    "papermill": {
     "duration": 0.019908,
     "end_time": "2022-07-08T09:45:20.387945",
     "exception": false,
     "start_time": "2022-07-08T09:45:20.368037",
     "status": "completed"
    },
    "tags": []
   },
   "outputs": [
    {
     "data": {
      "text/plain": [
       "4.765491074653962"
      ]
     },
     "execution_count": 15,
     "metadata": {},
     "output_type": "execute_result"
    }
   ],
   "source": [
    "time_based_weighted_average(df,30,26,22,22)"
   ]
  },
  {
   "cell_type": "markdown",
   "id": "db74c516",
   "metadata": {
    "papermill": {
     "duration": 0.005937,
     "end_time": "2022-07-08T09:45:20.400150",
     "exception": false,
     "start_time": "2022-07-08T09:45:20.394213",
     "status": "completed"
    },
    "tags": []
   },
   "source": [
    "# User-Based Weighted Average"
   ]
  },
  {
   "cell_type": "code",
   "execution_count": 16,
   "id": "6b413401",
   "metadata": {
    "execution": {
     "iopub.execute_input": "2022-07-08T09:45:20.414568Z",
     "iopub.status.busy": "2022-07-08T09:45:20.414142Z",
     "iopub.status.idle": "2022-07-08T09:45:20.420709Z",
     "shell.execute_reply": "2022-07-08T09:45:20.419626Z"
    },
    "papermill": {
     "duration": 0.016363,
     "end_time": "2022-07-08T09:45:20.422805",
     "exception": false,
     "start_time": "2022-07-08T09:45:20.406442",
     "status": "completed"
    },
    "tags": []
   },
   "outputs": [],
   "source": [
    "def user_based_weighted_average(dataframe, w1=22, w2=24, w3=26, w4=28):\n",
    "    return dataframe.loc[dataframe['Progress'] <= 10,'Rating'].mean() * w1 / 100 \\\n",
    "            +dataframe.loc[(dataframe['Progress'] > 10) &  (dataframe['Progress'] <= 45),'Rating'].mean() * w2 / 100 \\\n",
    "            +dataframe.loc[(dataframe['Progress'] > 45) &  (dataframe['Progress'] <= 75),'Rating'].mean() * w3 / 100 \\\n",
    "            +dataframe.loc[dataframe['Progress'] > 75,'Rating'].mean() * w4 / 100 "
   ]
  },
  {
   "cell_type": "code",
   "execution_count": 17,
   "id": "b1d000b4",
   "metadata": {
    "execution": {
     "iopub.execute_input": "2022-07-08T09:45:20.436856Z",
     "iopub.status.busy": "2022-07-08T09:45:20.436110Z",
     "iopub.status.idle": "2022-07-08T09:45:20.447407Z",
     "shell.execute_reply": "2022-07-08T09:45:20.446374Z"
    },
    "papermill": {
     "duration": 0.020382,
     "end_time": "2022-07-08T09:45:20.449400",
     "exception": false,
     "start_time": "2022-07-08T09:45:20.429018",
     "status": "completed"
    },
    "tags": []
   },
   "outputs": [
    {
     "data": {
      "text/plain": [
       "4.800257704672543"
      ]
     },
     "execution_count": 17,
     "metadata": {},
     "output_type": "execute_result"
    }
   ],
   "source": [
    "user_based_weighted_average(df)"
   ]
  },
  {
   "cell_type": "markdown",
   "id": "9e468a23",
   "metadata": {
    "papermill": {
     "duration": 0.005907,
     "end_time": "2022-07-08T09:45:20.461561",
     "exception": false,
     "start_time": "2022-07-08T09:45:20.455654",
     "status": "completed"
    },
    "tags": []
   },
   "source": [
    "# Weighted Rating"
   ]
  },
  {
   "cell_type": "code",
   "execution_count": 18,
   "id": "98f1da49",
   "metadata": {
    "execution": {
     "iopub.execute_input": "2022-07-08T09:45:20.475975Z",
     "iopub.status.busy": "2022-07-08T09:45:20.475301Z",
     "iopub.status.idle": "2022-07-08T09:45:20.479608Z",
     "shell.execute_reply": "2022-07-08T09:45:20.478809Z"
    },
    "papermill": {
     "duration": 0.013774,
     "end_time": "2022-07-08T09:45:20.481579",
     "exception": false,
     "start_time": "2022-07-08T09:45:20.467805",
     "status": "completed"
    },
    "tags": []
   },
   "outputs": [],
   "source": [
    "def course_weighted_rating(dataframe, time_w = 50, user_w = 50):\n",
    "    return time_based_weighted_average(dataframe) * time_w/100 \\\n",
    "            + user_based_weighted_average(dataframe) * user_w/100"
   ]
  },
  {
   "cell_type": "code",
   "execution_count": 19,
   "id": "aabe0410",
   "metadata": {
    "execution": {
     "iopub.execute_input": "2022-07-08T09:45:20.496377Z",
     "iopub.status.busy": "2022-07-08T09:45:20.495748Z",
     "iopub.status.idle": "2022-07-08T09:45:20.505581Z",
     "shell.execute_reply": "2022-07-08T09:45:20.504819Z"
    },
    "papermill": {
     "duration": 0.019471,
     "end_time": "2022-07-08T09:45:20.507450",
     "exception": false,
     "start_time": "2022-07-08T09:45:20.487979",
     "status": "completed"
    },
    "tags": []
   },
   "outputs": [
    {
     "data": {
      "text/plain": [
       "4.782641693469868"
      ]
     },
     "execution_count": 19,
     "metadata": {},
     "output_type": "execute_result"
    }
   ],
   "source": [
    "course_weighted_rating(df)"
   ]
  },
  {
   "cell_type": "code",
   "execution_count": 20,
   "id": "3e8544ab",
   "metadata": {
    "execution": {
     "iopub.execute_input": "2022-07-08T09:45:20.521510Z",
     "iopub.status.busy": "2022-07-08T09:45:20.520826Z",
     "iopub.status.idle": "2022-07-08T09:45:20.532100Z",
     "shell.execute_reply": "2022-07-08T09:45:20.530981Z"
    },
    "papermill": {
     "duration": 0.021031,
     "end_time": "2022-07-08T09:45:20.534643",
     "exception": false,
     "start_time": "2022-07-08T09:45:20.513612",
     "status": "completed"
    },
    "tags": []
   },
   "outputs": [
    {
     "data": {
      "text/plain": [
       "4.786164895710403"
      ]
     },
     "execution_count": 20,
     "metadata": {},
     "output_type": "execute_result"
    }
   ],
   "source": [
    "course_weighted_rating(df,time_w=40,user_w=60)"
   ]
  }
 ],
 "metadata": {
  "kernelspec": {
   "display_name": "Python 3",
   "language": "python",
   "name": "python3"
  },
  "language_info": {
   "codemirror_mode": {
    "name": "ipython",
    "version": 3
   },
   "file_extension": ".py",
   "mimetype": "text/x-python",
   "name": "python",
   "nbconvert_exporter": "python",
   "pygments_lexer": "ipython3",
   "version": "3.7.12"
  },
  "papermill": {
   "default_parameters": {},
   "duration": 10.664585,
   "end_time": "2022-07-08T09:45:21.262793",
   "environment_variables": {},
   "exception": null,
   "input_path": "__notebook__.ipynb",
   "output_path": "__notebook__.ipynb",
   "parameters": {},
   "start_time": "2022-07-08T09:45:10.598208",
   "version": "2.3.4"
  }
 },
 "nbformat": 4,
 "nbformat_minor": 5
}
