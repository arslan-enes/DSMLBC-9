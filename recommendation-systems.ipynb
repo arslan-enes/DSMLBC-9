{
 "cells": [
  {
   "cell_type": "code",
   "execution_count": 1,
   "id": "6b46a300",
   "metadata": {
    "_cell_guid": "b1076dfc-b9ad-4769-8c92-a6c4dae69d19",
    "_uuid": "8f2839f25d086af736a60e9eeb907d3b93b6e0e5",
    "execution": {
     "iopub.execute_input": "2022-07-22T08:29:32.963252Z",
     "iopub.status.busy": "2022-07-22T08:29:32.962789Z",
     "iopub.status.idle": "2022-07-22T08:29:32.968442Z",
     "shell.execute_reply": "2022-07-22T08:29:32.967294Z"
    },
    "papermill": {
     "duration": 0.011976,
     "end_time": "2022-07-22T08:29:32.970826",
     "exception": false,
     "start_time": "2022-07-22T08:29:32.958850",
     "status": "completed"
    },
    "tags": []
   },
   "outputs": [],
   "source": [
    "#start"
   ]
  }
 ],
 "metadata": {
  "kernelspec": {
   "display_name": "Python 3",
   "language": "python",
   "name": "python3"
  },
  "language_info": {
   "codemirror_mode": {
    "name": "ipython",
    "version": 3
   },
   "file_extension": ".py",
   "mimetype": "text/x-python",
   "name": "python",
   "nbconvert_exporter": "python",
   "pygments_lexer": "ipython3",
   "version": "3.7.12"
  },
  "papermill": {
   "default_parameters": {},
   "duration": 9.717755,
   "end_time": "2022-07-22T08:29:33.592648",
   "environment_variables": {},
   "exception": null,
   "input_path": "__notebook__.ipynb",
   "output_path": "__notebook__.ipynb",
   "parameters": {},
   "start_time": "2022-07-22T08:29:23.874893",
   "version": "2.3.4"
  }
 },
 "nbformat": 4,
 "nbformat_minor": 5
}
